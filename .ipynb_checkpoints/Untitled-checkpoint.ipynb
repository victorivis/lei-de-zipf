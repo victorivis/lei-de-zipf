{
 "cells": [
  {
   "cell_type": "markdown",
   "id": "30199e30-ba2f-4aa2-ac4e-8c7e68c34461",
   "metadata": {},
   "source": [
    "![Babel1](imagens/Babel1.jpeg)\r\n",
    "![siteBabel](imagens/siteBabel.jpeg)\r\n",
    "![AlgoritmoVsauce](imagens/AlgoritmoVsauce.jpeg)\r\n",
    "![Macaquinhos](imagens/Macaquinhos.jpeg)\r\n",
    "![GeorgeMiller](imagens/GeorgeMiller.jpeg)\r\n"
   ]
  },
  {
   "cell_type": "markdown",
   "id": "5d3ca9d4-8cd6-4031-8b8b-9ee2dafa8a6b",
   "metadata": {},
   "source": [
    "<img src=\"imagens/GeorgeMiller.jpeg\" width=\"300px\" style='display:inline'>"
   ]
  },
  {
   "cell_type": "code",
   "execution_count": null,
   "id": "05ae9804-d8db-4ca6-a8d8-e6a32966f44b",
   "metadata": {},
   "outputs": [],
   "source": []
  }
 ],
 "metadata": {
  "kernelspec": {
   "display_name": "Python 3 (ipykernel)",
   "language": "python",
   "name": "python3"
  },
  "language_info": {
   "codemirror_mode": {
    "name": "ipython",
    "version": 3
   },
   "file_extension": ".py",
   "mimetype": "text/x-python",
   "name": "python",
   "nbconvert_exporter": "python",
   "pygments_lexer": "ipython3",
   "version": "3.12.1"
  }
 },
 "nbformat": 4,
 "nbformat_minor": 5
}
