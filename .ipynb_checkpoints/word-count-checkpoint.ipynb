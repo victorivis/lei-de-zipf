{
 "cells": [
  {
   "cell_type": "markdown",
   "id": "46a37489-a9c3-43c8-b952-c8454806710f",
   "metadata": {},
   "source": [
    "# Contagem de palavras padrão\n",
    "\n",
    "Insire-se o nome do arquivo na pasta como valor para WordCount()"
   ]
  },
  {
   "cell_type": "code",
   "execution_count": 1,
   "id": "eedbb97a-2060-4c51-8c66-af5321975aca",
   "metadata": {},
   "outputs": [
    {
     "name": "stdout",
     "output_type": "stream",
     "text": [
      "arquivo saida-casmurro.txt criado na pasta resultados\n"
     ]
    }
   ],
   "source": [
    "#Esse códigos servem para gerar contar a quantidade de palavras e gerar um txt\n",
    "\n",
    "def wordCount(x=1):\n",
    "    if x == 1:\n",
    "        x = input(\"Arquivo a ser lido: \")\n",
    "        \n",
    "    import string\n",
    "    \n",
    "    leitor = open(\"livros/{}\".format(x), \"r\", encoding=\"utf-8\")\n",
    "    texto = leitor.read()\n",
    "    # print(texto)\n",
    "    leitor.close()\n",
    "    dict = {};\n",
    "    \n",
    "    #indica caracteres que serão retirados do livro\n",
    "    caracteresExcluidos = string.punctuation + \"'-1234567890\"+'\"'+\"»«*”“\\n\"\n",
    "    \n",
    "    #Em alice o caractere especial ’ (não é a aspa do teclado) pode mudar os resultados\n",
    "    \n",
    "    #percorre cada caractere de carateresExcluidos e retira eles do texto original\n",
    "    for letra in caracteresExcluidos:\n",
    "      texto = texto.replace(letra, ' ')\n",
    "    \n",
    "    texto = texto.casefold()\n",
    "    array = texto.split()\n",
    "    \n",
    "    #conta as palavras\n",
    "    for string in array:\n",
    "    \tif string in dict:\n",
    "    \t\tdict[string] += 1;\n",
    "    \telse:\n",
    "    \t\tdict[string] = 1;\n",
    "    \n",
    "    #ordena a lista pela frequencia\n",
    "    dict = sorted(dict.items(), key=lambda x:x[1], reverse=True)\n",
    "    \n",
    "    # for j in dict:\n",
    "    #     print(j)\n",
    "    \n",
    "    saida = open(\"resultados/saida-{}\".format(x), \"w\", encoding=\"utf-8\");\n",
    "    for i in dict:\n",
    "    \tsaida.write(\"{}\\n\".format(i))\n",
    "    saida.close()\n",
    "    print(\"arquivo saida-{} criado na pasta resultados\".format(x))\n",
    "\n",
    "wordCount(\"casmurro.txt\")"
   ]
  },
  {
   "cell_type": "markdown",
   "id": "99cd25b9-f138-4be2-868e-eb815d83ab64",
   "metadata": {},
   "source": [
    "# Contagem de palavras em pares"
   ]
  },
  {
   "cell_type": "code",
   "execution_count": 4,
   "id": "79a6b90a-348d-4c9b-8605-9b912df7b938",
   "metadata": {},
   "outputs": [
    {
     "name": "stdout",
     "output_type": "stream",
     "text": [
      "arquivo saida-critao.txt criado na pasta resultados-pares\n"
     ]
    }
   ],
   "source": [
    "# Essa parte conta as palavras agrupando elas em pares\n",
    "def wordCountPar(x=1):\n",
    "    import string\n",
    "    if x == 1:\n",
    "        x = input(\"Arquivo a ser lido: \")\n",
    "        \n",
    "    leitor = open(\"livros/{}\".format(x), \"r\", encoding=\"utf-8\")\n",
    "    texto = leitor.read()\n",
    "    leitor.close()\n",
    "    dict = {}\n",
    "    \n",
    "    caracteresExcluidos = string.punctuation + \"'-1234567890\" + '\"' + \"»*”“\"\n",
    "    \n",
    "    for letra in caracteresExcluidos:\n",
    "        texto = texto.replace(letra, ' ')\n",
    "    \n",
    "    texto = texto.casefold()\n",
    "    array = texto.split()\n",
    "    contador = 1\n",
    "    \n",
    "    while contador < len(array):\n",
    "        string = array[contador - 1] + \" \" + array[contador]\n",
    "        if string in dict:\n",
    "            dict[string] = dict[string] + 1\n",
    "        else:\n",
    "            dict[string] = 1\n",
    "        contador += 1\n",
    "    \n",
    "    #ordena a lista pela frequencia\n",
    "    dict = sorted(dict.items(), key=lambda x:x[1], reverse=True)\n",
    "\n",
    "    # retiro o comentario para ver a saida completa\n",
    "    # for j in dict:\n",
    "    #     print(j)\n",
    "    \n",
    "    saida = open(\"resultados-pares/saida-{}\".format(x), \"w\", encoding=\"utf-8\");\n",
    "    for i in dict:\n",
    "    \tsaida.write(\"{}\\n\".format(i))\n",
    "    saida.close()\n",
    "    print(\"arquivo saida-{} criado na pasta resultados-pares\".format(x))\n",
    "\n",
    "wordCountPar(\"critao.txt\")"
   ]
  },
  {
   "cell_type": "markdown",
   "id": "71cf1224-ac86-44ad-b1c9-115f4c30f0da",
   "metadata": {},
   "source": [
    "# Contagem de palavras em trios"
   ]
  },
  {
   "cell_type": "code",
   "execution_count": 3,
   "id": "83a54bdf-5264-4279-a2d4-a657a2b423c8",
   "metadata": {},
   "outputs": [
    {
     "name": "stdout",
     "output_type": "stream",
     "text": [
      "arquivo saida-critao.txt criado na pasta resultados-trios\n"
     ]
    }
   ],
   "source": [
    "#codigo para agrupar em trios\n",
    "\n",
    "def wordCountTrio(x=1):\n",
    "    import string\n",
    "    if x == 1:\n",
    "        x = input(\"Arquivo a ser lido: \")\n",
    "        \n",
    "    leitor = open(\"livros/{}\".format(x), \"r\", encoding=\"utf-8\")\n",
    "    texto = leitor.read()\n",
    "    leitor.close()\n",
    "    dict = {}\n",
    "    \n",
    "    caracteresExcluidos = string.punctuation + \"'-1234567890\" + '\"' + \"»*”“\"\n",
    "    \n",
    "    for letra in caracteresExcluidos:\n",
    "        texto = texto.replace(letra, ' ')\n",
    "    \n",
    "    texto = texto.casefold()\n",
    "    array = texto.split()\n",
    "    contador = 2\n",
    "    \n",
    "    while contador < len(array):\n",
    "        string = array[contador - 2] + \" \" + array[contador-1] + \" \" + array[contador]\n",
    "        if string in dict:\n",
    "            dict[string] = dict[string] + 1\n",
    "        else:\n",
    "            dict[string] = 1\n",
    "        contador += 1\n",
    "    \n",
    "    #ordena a lista pela frequencia\n",
    "    dict = sorted(dict.items(), key=lambda x:x[1], reverse=True)\n",
    "\n",
    "    # retiro o comentario para ver a saida completa\n",
    "    # for j in dict:\n",
    "    #     print(j)\n",
    "    \n",
    "    saida = open(\"resultados-trios/saida-{}\".format(x), \"w\", encoding=\"utf-8\");\n",
    "    for i in dict:\n",
    "    \tsaida.write(\"{}\\n\".format(i))\n",
    "    saida.close()\n",
    "    print(\"arquivo saida-{} criado na pasta resultados-trios\".format(x))\n",
    "\n",
    "wordCountTrio(\"critao.txt\")"
   ]
  },
  {
   "cell_type": "code",
   "execution_count": null,
   "id": "b91ecda4-3f81-4bbd-8eb7-9502fd214b76",
   "metadata": {},
   "outputs": [],
   "source": []
  }
 ],
 "metadata": {
  "kernelspec": {
   "display_name": "Python 3 (ipykernel)",
   "language": "python",
   "name": "python3"
  },
  "language_info": {
   "codemirror_mode": {
    "name": "ipython",
    "version": 3
   },
   "file_extension": ".py",
   "mimetype": "text/x-python",
   "name": "python",
   "nbconvert_exporter": "python",
   "pygments_lexer": "ipython3",
   "version": "3.10.12"
  }
 },
 "nbformat": 4,
 "nbformat_minor": 5
}
